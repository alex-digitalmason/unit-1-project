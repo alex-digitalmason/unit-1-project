{
 "cells": [
  {
   "cell_type": "markdown",
   "metadata": {},
   "source": [
    "<img src=\"http://imgur.com/1ZcRyrc.png\" style=\"float: left; margin: 20px; height: 55px\">\n",
    "\n",
    "# Project 1: Python Coding Exercises\n",
    "\n",
    "_Authors: Joseph Nelson (DC) _\n",
    "\n",
    "---"
   ]
  },
  {
   "cell_type": "markdown",
   "metadata": {},
   "source": [
    "The following code challenges are drawn from common exercises used in technical interviews.\n",
    "\n",
    "Please note that there may be several ways to approach each challenge. If you get stuck, try mapping out your approach in pseudocode first. Finally, while solutions to problems like these may be found online, remember that if you copy/paste code that you can't explain, you'll be missing out on the point of the project. The only way to truly learn a new skill is through practice, trial, and error - we can only help you improve by understanding where you are having trouble."
   ]
  },
  {
   "cell_type": "markdown",
   "metadata": {},
   "source": [
    "### Challenge 1: Largest Palindrome\n",
    "A palindromic number reads the same both ways. For example, 1234321 is a palindrome. The largest palindrome made from the product of two two-digit numbers is 9009 = 91 × 99. Find the largest palindrome made from the product of two three-digit numbers. Afterward, write a brief explanation walking through your code's logic in markdown."
   ]
  },
  {
   "cell_type": "code",
   "execution_count": 37,
   "metadata": {},
   "outputs": [
    {
     "name": "stdout",
     "output_type": "stream",
     "text": [
      "906609\n"
     ]
    }
   ],
   "source": [
    "range_list = list(range(100,999))\n",
    "index_count = 0\n",
    "palindrome = 0\n",
    "string = ''\n",
    "\n",
    "def multiplier(num1,num2):\n",
    "    multiple_sum = num1 * num2\n",
    "    return multiple_sum\n",
    "\n",
    "for n in range_list:\n",
    "    multiplier_index = index_count\n",
    "    for i in range_list[index_count:]:\n",
    "        string = str(multiplier(range_list[index_count], range_list[multiplier_index]))\n",
    "        multiplier_index += 1\n",
    "\n",
    "        if string[:] == string[::-1]:\n",
    "            if int(string) > palindrome:\n",
    "                palindrome = int(string)\n",
    "            \n",
    "    index_count += 1\n",
    "\n",
    "print(palindrome)"
   ]
  },
  {
   "cell_type": "markdown",
   "metadata": {},
   "source": [
    "First I commited a range of all 3 digit numbers to a list. I then created a nested `for` loop that goes through list and using my multiplier `function`, multiplies each number in the list by all other numbers in that list. Using the multiplier index variable, each loop starts the multiplication process based on it's own index so as not to repeat work ie 100 x 101 == 101 x 100. \n",
    "\n",
    "The sum of the function is saved as a string into the string variable, at which point an `if` statement is used to determine if the string is the same in reverse. If it is, the string is subject to another `if` statement comparing whether or not this string is the bigger than any past palindromes saved to the palindrome variable. "
   ]
  },
  {
   "cell_type": "markdown",
   "metadata": {},
   "source": []
  },
  {
   "cell_type": "markdown",
   "metadata": {},
   "source": [
    "\n",
    "### Challenge 2: Summation of Primes\n",
    "The sum of the primes below 10 is 2 + 3 + 5 + 7 = 17. Find the sum of all the primes below 2,000. Afterward, write a brief explanation walking through your code's logic in markdown."
   ]
  },
  {
   "cell_type": "code",
   "execution_count": 71,
   "metadata": {},
   "outputs": [
    {
     "name": "stdout",
     "output_type": "stream",
     "text": [
      "278899\n"
     ]
    }
   ],
   "source": [
    "prime_sum = 0 \n",
    "low_primes = [2,3,5,7,11,13,17,19,23,29,31,37,41,43]\n",
    "\n",
    "for number in range(2, 2000):     \n",
    "    if number in low_primes: \n",
    "        prime_sum += number  \n",
    "    else:\n",
    "        is_divisible = False\n",
    "        counter = 0\n",
    "        while not is_divisible:\n",
    "            if number % low_primes[counter] == 0:\n",
    "                is_divisible = True\n",
    "            counter += 1\n",
    "\n",
    "            if counter >= len(low_primes):\n",
    "                is_divisible = True\n",
    "                prime_sum += number\n",
    "                \n",
    "print(prime_sum)"
   ]
  },
  {
   "cell_type": "markdown",
   "metadata": {},
   "source": [
    "Variable low_primes was created to check other numbers against. 43 is the highest square root of a prime number that does not go over 2000 so if the numbers between 1 and 2000 are not divisible by any of those numbers than it shows that number is a prime number.\n",
    "\n",
    "the first `for` and `if` statement runs through the range 2 through 2000 and adds any of the numbers in the low_primes list to the prime_sum. \n",
    "\n",
    "In the `else` I set up a while statement to check if the rest of numbers in the range are divisible by the numbes in low_primes. I used a `while` loop to check each number in the range against the numbers in the low_primes list. If the number is divisible it stops the `while` loop and moves on to the next number in the range. If the number is not divisible it continues through the loop adding a 1 to the counter and iterating through the list. If the counter hits the length of the low_primes list without is_divisible being true then it is counted as a prime number."
   ]
  },
  {
   "cell_type": "markdown",
   "metadata": {},
   "source": []
  },
  {
   "cell_type": "markdown",
   "metadata": {},
   "source": [
    "### Challenge 3: Multiples of 3 and 5\n",
    "If we list all of the natural numbers below 10 that are multiples of 3 or 5, we get 3, 5, 6, and 9. The sum of these multiples is 23. Find the sum of all the multiples of 3 or 5 below 1,000. Afterward, write a brief explanation walking through your code's logic in markdown."
   ]
  },
  {
   "cell_type": "code",
   "execution_count": 80,
   "metadata": {},
   "outputs": [
    {
     "name": "stdout",
     "output_type": "stream",
     "text": [
      "233168\n"
     ]
    }
   ],
   "source": [
    "multiple_sum = 0\n",
    "\n",
    "for multiple in range(3,1000):\n",
    "    if multiple % 3 == 0 or multiple % 5 == 0:\n",
    "        multiple_sum += multiple\n",
    "        \n",
    "print(multiple_sum)"
   ]
  },
  {
   "cell_type": "markdown",
   "metadata": {},
   "source": [
    "Similar to the problem above, the first `for` statement is used to iterate through a range. The `if` statement pushes each number from the range through a modulo operator and if the number is divisible by 3 or 5 it is added to the multiple_sum variable.\n",
    "\n",
    "I started the range at 3 rather than 1 since 3 is the first number divisible by 3."
   ]
  },
  {
   "cell_type": "markdown",
   "metadata": {},
   "source": []
  },
  {
   "cell_type": "markdown",
   "metadata": {},
   "source": [
    "### Challenge 4: String Compressor\n",
    "Implement a method to perform basic string compression using the counts of repeated characters. (This is called run-length encoding.) For example, the string \"aabcccccaaa\" would become a2b1c5a3. If the “compressed” string would not become smaller than the original string, your method should return the original string. You can assume the string has only uppercase and lowercase letters (a–z). Specify whether your solution is case sensitive or case insensitive and what you would need to change to make it the other. Afterward, write a brief explanation walking through your code's logic in markdown."
   ]
  },
  {
   "cell_type": "code",
   "execution_count": 19,
   "metadata": {},
   "outputs": [
    {
     "name": "stdout",
     "output_type": "stream",
     "text": [
      "a2b1c5a3\n"
     ]
    }
   ],
   "source": [
    "orig_string = 'aaBcccCcaaa'\n",
    "new_string = ''\n",
    "count = 1\n",
    "\n",
    "orig_string = orig_string.lower()\n",
    "new_string += orig_string[0]\n",
    "\n",
    "\n",
    "for character in range(len(orig_string)-1):\n",
    "    if orig_string[character] == orig_string[character+1]:\n",
    "        count += 1\n",
    "    else:\n",
    "        new_string += str(count)\n",
    "        count = 1\n",
    "        new_string += orig_string[character+1]\n",
    "        \n",
    "if count >= 1:\n",
    "    new_string += str(count)\n",
    "\n",
    "if new_string >= orig_string:\n",
    "    print(orig_string)\n",
    "else:\n",
    "    print(new_string)"
   ]
  },
  {
   "cell_type": "markdown",
   "metadata": {},
   "source": [
    "I created a variable for the original string called `orig_string` and set it to equal `orig_string.lower()` so that there would be no case sensitivity. I created a new string and added the first character of whatever string was put into `orig_string` and then used a `for` loop to go through each character in the string we are trying to compress using a range of the length of the string -1, so the length doesn't go over the number of letters since we're starting at index 1. I then created an `if` statement checking to see if the current character and the next character are the same. If they are, a 1 is added to the count variable and if they are not then the count is added to the `new_string` variable and it moves on to the next letter. Once tha last character has been counted an `if` statement is used to check if the new string is longer than the original string and print whichever is shortest. "
   ]
  },
  {
   "cell_type": "markdown",
   "metadata": {},
   "source": []
  },
  {
   "cell_type": "markdown",
   "metadata": {},
   "source": [
    "### Challenge 5: FizzBuzz\n",
    "\n",
    "Write a program that prints all of the numbers from 1 to 100. For multiples of 3, instead of the number, print \"Fizz;\" for multiples of 5, print \"Buzz.\" For numbers that are multiples of both 3 and 5, print \"FizzBuzz.\" Afterward, write a brief explanation walking through your code's logic in markdown."
   ]
  },
  {
   "cell_type": "code",
   "execution_count": 38,
   "metadata": {},
   "outputs": [
    {
     "name": "stdout",
     "output_type": "stream",
     "text": [
      "[1, 2, 'Fizz', 4, 'Buzz', 'Fizz', 7, 8, 'Fizz', 'Buzz', 11, 'Fizz', 13, 14, 'FizzBuzz', 16, 17, 'Fizz', 19, 'Buzz', 'Fizz', 22, 23, 'Fizz', 'Buzz', 26, 'Fizz', 28, 29, 'FizzBuzz', 31, 32, 'Fizz', 34, 'Buzz', 'Fizz', 37, 38, 'Fizz', 'Buzz', 41, 'Fizz', 43, 44, 'FizzBuzz', 46, 47, 'Fizz', 49, 'Buzz', 'Fizz', 52, 53, 'Fizz', 'Buzz', 56, 'Fizz', 58, 59, 'FizzBuzz', 61, 62, 'Fizz', 64, 'Buzz', 'Fizz', 67, 68, 'Fizz', 'Buzz', 71, 'Fizz', 73, 74, 'FizzBuzz', 76, 77, 'Fizz', 79, 'Buzz', 'Fizz', 82, 83, 'Fizz', 'Buzz', 86, 'Fizz', 88, 89, 'FizzBuzz', 91, 92, 'Fizz', 94, 'Buzz', 'Fizz', 97, 98, 'Fizz', 'Buzz']\n"
     ]
    }
   ],
   "source": [
    "fizzbuzz_list = list(range(1,101))\n",
    "\n",
    "for num in fizzbuzz_list:\n",
    "    if num % 3 == 0 and num % 5 == 0:\n",
    "        fizzbuzz_list.insert(num, \"FizzBuzz\")\n",
    "        fizzbuzz_list.remove(num)\n",
    "    elif num % 3 == 0:\n",
    "        fizzbuzz_list.insert(num, \"Fizz\")\n",
    "        fizzbuzz_list.remove(num)\n",
    "    elif num % 5 == 0:\n",
    "        fizzbuzz_list.insert(num, \"Buzz\")\n",
    "        fizzbuzz_list.remove(num)\n",
    "        \n",
    "        \n",
    "print(fizzbuzz_list)"
   ]
  },
  {
   "cell_type": "markdown",
   "metadata": {},
   "source": []
  },
  {
   "cell_type": "markdown",
   "metadata": {},
   "source": [
    "I committed the range to a list then used a `for` statement to iterate through the list first looking for numbers divisible by 3 AND 5, then 3 and lastly 5. 3 AND 5 was put first so that the FizzBuzz would not be written over by either Fizz or Buzz. \n",
    "\n",
    "I inserted the word using the range number since that would place it after the index of the number we want to replace it with, then remove that number from the list. "
   ]
  },
  {
   "cell_type": "code",
   "execution_count": null,
   "metadata": {},
   "outputs": [],
   "source": []
  }
 ],
 "metadata": {
  "anaconda-cloud": {},
  "kernelspec": {
   "display_name": "Python 3",
   "language": "python",
   "name": "python3"
  },
  "language_info": {
   "codemirror_mode": {
    "name": "ipython",
    "version": 3
   },
   "file_extension": ".py",
   "mimetype": "text/x-python",
   "name": "python",
   "nbconvert_exporter": "python",
   "pygments_lexer": "ipython3",
   "version": "3.6.5"
  }
 },
 "nbformat": 4,
 "nbformat_minor": 2
}
